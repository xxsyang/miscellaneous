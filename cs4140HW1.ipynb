{
 "cells": [
  {
   "cell_type": "code",
   "execution_count": 39,
   "metadata": {},
   "outputs": [],
   "source": [
    "import random as rd\n",
    "import matplotlib.pyplot as plt\n",
    "import time"
   ]
  },
  {
   "cell_type": "code",
   "execution_count": 29,
   "metadata": {},
   "outputs": [
    {
     "name": "stdout",
     "output_type": "stream",
     "text": [
      "82\n"
     ]
    }
   ],
   "source": [
    "n = 5000\n",
    "\n",
    "def experiment1():\n",
    "    count = 0\n",
    "    hasSeen = set()\n",
    "    while(True):\n",
    "        x = rd.randint(1, n)\n",
    "        if x in hasSeen:\n",
    "            break\n",
    "        hasSeen.add(x)\n",
    "        count += 1\n",
    "\n",
    "    return count\n",
    "\n",
    "\n",
    "print(experiment1())"
   ]
  },
  {
   "cell_type": "code",
   "execution_count": 30,
   "metadata": {},
   "outputs": [
    {
     "data": {
      "image/png": "[encoded data removed]",
      "text/plain": [
       "<Figure size 640x480 with 1 Axes>"
      ]
     },
     "metadata": {},
     "output_type": "display_data"
    }
   ],
   "source": [
    "def experiment1():\n",
    "    count = 0\n",
    "    hasSeen = set()\n",
    "    while(True):\n",
    "        x = rd.randint(1, n)\n",
    "        if x in hasSeen:\n",
    "            break\n",
    "        hasSeen.add(x)\n",
    "        count += 1\n",
    "\n",
    "    return count\n",
    "\n",
    "records = []\n",
    "expected_values = []\n",
    "\n",
    "\n",
    "for i in range(300):\n",
    "    res = experiment1()\n",
    "    records.append(res)\n",
    "    expected_values.append(res)\n",
    "\n",
    "def cdf(records):\n",
    "    sorted_data = sorted(records)\n",
    "    n = len(sorted_data)\n",
    "    cdf_values = []\n",
    "\n",
    "    for i, x in enumerate(sorted_data):\n",
    "        cdf_values.append((i + 1) / n)\n",
    "    return sorted_data, cdf_values\n",
    "\n",
    "x, y = cdf(records)\n",
    "\n",
    "plt.step(x, y, where=\"post\")\n",
    "plt.xlabel(\"Data\")\n",
    "plt.ylabel(\"CDF\")\n",
    "plt.title(\"Empirical CDF\")\n",
    "plt.show()"
   ]
  },
  {
   "cell_type": "code",
   "execution_count": 31,
   "metadata": {},
   "outputs": [
    {
     "name": "stdout",
     "output_type": "stream",
     "text": [
      "89.10333333333334\n"
     ]
    }
   ],
   "source": [
    "n=5000\n",
    "m=300\n",
    "\n",
    "def experiment1():\n",
    "    count = 0\n",
    "    hasSeen = set()\n",
    "    while(True):\n",
    "        x = rd.randint(1, n)\n",
    "        if x in hasSeen:\n",
    "            break\n",
    "        hasSeen.add(x)\n",
    "        count += 1\n",
    "\n",
    "    return count\n",
    "\n",
    "records = []\n",
    "\n",
    "for i in range(300):\n",
    "    res = experiment1()\n",
    "    records.append(res)\n",
    "    expected_values.append(res)\n",
    "\n",
    "expected_k = sum(records) / m\n",
    "\n",
    "print(expected_k)"
   ]
  },
  {
   "cell_type": "code",
   "execution_count": 54,
   "metadata": {},
   "outputs": [
    {
     "name": "stdout",
     "output_type": "stream",
     "text": [
      "n=10000, m=300, avg_runtime=0.0001 seconds\n",
      "n=100000, m=300, avg_runtime=0.0002 seconds\n",
      "n=1000000, m=300, avg_runtime=0.0006 seconds\n"
     ]
    },
    {
     "ename": "TypeError",
     "evalue": "'Legend' object is not callable",
     "output_type": "error",
     "traceback": [
      "\u001b[0;31m---------------------------------------------------------------------------\u001b[0m",
      "\u001b[0;31mTypeError\u001b[0m                                 Traceback (most recent call last)",
      "Cell \u001b[0;32mIn[54], line 36\u001b[0m\n\u001b[1;32m     34\u001b[0m \u001b[38;5;28;01mfor\u001b[39;00m m \u001b[38;5;129;01min\u001b[39;00m m_values:\n\u001b[1;32m     35\u001b[0m     runtimes \u001b[38;5;241m=\u001b[39m measure_runtime(n_values, m)\n\u001b[0;32m---> 36\u001b[0m     \u001b[43mplt\u001b[49m\u001b[38;5;241;43m.\u001b[39;49m\u001b[43mplot\u001b[49m\u001b[43m(\u001b[49m\u001b[43mn_values\u001b[49m\u001b[43m,\u001b[49m\u001b[43m \u001b[49m\u001b[43mruntimes\u001b[49m\u001b[43m,\u001b[49m\u001b[43m \u001b[49m\u001b[43mmarker\u001b[49m\u001b[38;5;241;43m=\u001b[39;49m\u001b[38;5;124;43m'\u001b[39;49m\u001b[38;5;124;43mo\u001b[39;49m\u001b[38;5;124;43m'\u001b[39;49m\u001b[43m,\u001b[49m\u001b[43m \u001b[49m\u001b[43mlinestyle\u001b[49m\u001b[38;5;241;43m=\u001b[39;49m\u001b[38;5;124;43m'\u001b[39;49m\u001b[38;5;124;43m-\u001b[39;49m\u001b[38;5;124;43m'\u001b[39;49m\u001b[43m,\u001b[49m\u001b[43m \u001b[49m\u001b[43mlabel\u001b[49m\u001b[38;5;241;43m=\u001b[39;49m\u001b[38;5;124;43mf\u001b[39;49m\u001b[38;5;124;43m'\u001b[39;49m\u001b[38;5;124;43mm=\u001b[39;49m\u001b[38;5;132;43;01m{\u001b[39;49;00m\u001b[43mm\u001b[49m\u001b[38;5;132;43;01m}\u001b[39;49;00m\u001b[38;5;124;43m'\u001b[39;49m\u001b[43m)\u001b[49m\n\u001b[1;32m     38\u001b[0m plt\u001b[38;5;241m.\u001b[39mxlabel(\u001b[38;5;124m'\u001b[39m\u001b[38;5;124mn (domain size)\u001b[39m\u001b[38;5;124m'\u001b[39m)\n\u001b[1;32m     39\u001b[0m plt\u001b[38;5;241m.\u001b[39mylabel(\u001b[38;5;124m'\u001b[39m\u001b[38;5;124mAverage runtime (seconds)\u001b[39m\u001b[38;5;124m'\u001b[39m)\n",
      "\u001b[0;31mTypeError\u001b[0m: 'Legend' object is not callable"
     ]
    },
    {
     "data": {
      "text/plain": [
       "<Figure size 1000x600 with 0 Axes>"
      ]
     },
     "metadata": {},
     "output_type": "display_data"
    }
   ],
   "source": [
    "import random as rd\n",
    "import matplotlib.pyplot as plt\n",
    "import time\n",
    "\n",
    "n_values = [10000, 100000, 1000000]\n",
    "m_values = [300, 1000, 10000]\n",
    "\n",
    "def experiment1(n):\n",
    "    count = 0\n",
    "    hasSeen = set()\n",
    "    while True:\n",
    "        x = rd.randint(1, n)\n",
    "        if x in hasSeen:\n",
    "            break\n",
    "        hasSeen.add(x)\n",
    "        count += 1\n",
    "    return count\n",
    "\n",
    "def measure_runtime(n_values, m):\n",
    "    runtimes = []\n",
    "    for n in n_values:\n",
    "        start_time = time.time()\n",
    "        for _ in range(m):\n",
    "            experiment1(n)\n",
    "        end_time = time.time()\n",
    "        avg_runtime = (end_time - start_time) / m\n",
    "        runtimes.append(avg_runtime)\n",
    "        print(f\"n={n}, m={m}, avg_runtime={avg_runtime:.4f} seconds\")\n",
    "    return runtimes\n",
    "\n",
    "# Measure runtime and plot results\n",
    "plt.figure(figsize=(10, 6))\n",
    "\n",
    "for m in m_values:\n",
    "    runtimes = measure_runtime(n_values, m)\n",
    "    plt.plot(n_values, runtimes, marker='o', linestyle='-', label=f'm={m}')\n",
    "\n",
    "plt.xlabel('n (domain size)')\n",
    "plt.ylabel('Average runtime (seconds)')\n",
    "plt.title('Runtime as a function of n for different values of m')\n",
    "plt.legend()"
   ]
  },
  {
   "cell_type": "code",
   "execution_count": 55,
   "metadata": {},
   "outputs": [
    {
     "name": "stdout",
     "output_type": "stream",
     "text": [
      "3275\n"
     ]
    }
   ],
   "source": [
    "n = 300\n",
    "\n",
    "def experiment2():\n",
    "    count = 0\n",
    "    seen = set()\n",
    "    while len(seen) < n:\n",
    "        x = rd.randint(1, n)\n",
    "        seen.add(x)\n",
    "        count += 1\n",
    "    return count\n",
    "\n",
    "print(experiment2())"
   ]
  },
  {
   "cell_type": "code",
   "execution_count": 59,
   "metadata": {},
   "outputs": [
    {
     "name": "stdout",
     "output_type": "stream",
     "text": [
      "1856.76\n"
     ]
    },
    {
     "data": {
      "image/png": "[encoded data removed]",
      "text/plain": [
       "<Figure size 640x480 with 1 Axes>"
      ]
     },
     "metadata": {},
     "output_type": "display_data"
    }
   ],
   "source": [
    "def experiment2():\n",
    "    count = 0\n",
    "    seen = set()\n",
    "    while len(seen) < n:\n",
    "        x = rd.randint(1, n)\n",
    "        seen.add(x)\n",
    "        count += 1\n",
    "    return count\n",
    "\n",
    "records = []\n",
    "expected_values = []\n",
    "\n",
    "\n",
    "for i in range(400):\n",
    "    res = experiment2()\n",
    "    records.append(res)\n",
    "    expected_values.append(res)\n",
    "\n",
    "def cdf(records):\n",
    "    sorted_data = sorted(records)\n",
    "    n = len(sorted_data)\n",
    "    cdf_values = []\n",
    "\n",
    "    for i, x in enumerate(sorted_data):\n",
    "        cdf_values.append((i + 1) / n)\n",
    "    return sorted_data, cdf_values\n",
    "\n",
    "x, y = cdf(records)\n",
    "\n",
    "expected_k = sum(records) / 400\n",
    "\n",
    "print(expected_k)\n",
    "\n",
    "plt.step(x, y, where=\"post\")\n",
    "plt.xlabel(\"Data\")\n",
    "plt.ylabel(\"CDF\")\n",
    "plt.title(\"Empirical CDF\")\n",
    "plt.show()"
   ]
  },
  {
   "cell_type": "code",
   "execution_count": null,
   "metadata": {},
   "outputs": [],
   "source": []
  }
 ],
 "metadata": {
  "kernelspec": {
   "display_name": "Python 3",
   "language": "python",
   "name": "python3"
  },
  "language_info": {
   "codemirror_mode": {
    "name": "ipython",
    "version": 3
   },
   "file_extension": ".py",
   "mimetype": "text/x-python",
   "name": "python",
   "nbconvert_exporter": "python",
   "pygments_lexer": "ipython3",
   "version": "3.9.6"
  }
 },
 "nbformat": 4,
 "nbformat_minor": 2
}
